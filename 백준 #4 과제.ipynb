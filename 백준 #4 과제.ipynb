{
 "cells": [
  {
   "cell_type": "code",
   "execution_count": 1,
   "metadata": {},
   "outputs": [
    {
     "name": "stdout",
     "output_type": "stream",
     "text": [
      "2\n",
      "2 * 1 = 2\n",
      "2 * 2 = 4\n",
      "2 * 3 = 6\n",
      "2 * 4 = 8\n",
      "2 * 5 = 10\n",
      "2 * 6 = 12\n",
      "2 * 7 = 14\n",
      "2 * 8 = 16\n",
      "2 * 9 = 18\n"
     ]
    }
   ],
   "source": [
    "n=int(input())\n",
    "for i in range(1,10,1):\n",
    "    print(n,'*',i,'=',n*i)"
   ]
  },
  {
   "cell_type": "code",
   "execution_count": 9,
   "metadata": {},
   "outputs": [
    {
     "name": "stdout",
     "output_type": "stream",
     "text": [
      "26\n",
      "4\n"
     ]
    }
   ],
   "source": [
    "n=int(input())\n",
    "num=n\n",
    "cnt=0\n",
    "while True:\n",
    "    a=n//10\n",
    "    b=n%10\n",
    "    c=a+b\n",
    "    d=c%10\n",
    "    n=(b*10)+d\n",
    "    cnt+=1\n",
    "    if(n==num):\n",
    "        print(cnt)\n",
    "        break"
   ]
  },
  {
   "cell_type": "code",
   "execution_count": 6,
   "metadata": {},
   "outputs": [
    {
     "data": {
      "text/plain": [
       "1"
      ]
     },
     "execution_count": 6,
     "metadata": {},
     "output_type": "execute_result"
    }
   ],
   "source": [
    "8//7"
   ]
  },
  {
   "cell_type": "code",
   "execution_count": 7,
   "metadata": {},
   "outputs": [
    {
     "data": {
      "text/plain": [
       "0"
      ]
     },
     "execution_count": 7,
     "metadata": {},
     "output_type": "execute_result"
    }
   ],
   "source": [
    "8//10"
   ]
  },
  {
   "cell_type": "code",
   "execution_count": 15,
   "metadata": {},
   "outputs": [
    {
     "name": "stdout",
     "output_type": "stream",
     "text": [
      "my name is nam \n",
      "5\n"
     ]
    }
   ],
   "source": [
    "char=input()\n",
    "cnt=1\n",
    "for i in char:\n",
    "    if i==' ':\n",
    "        cnt+=1\n",
    "print(cnt)"
   ]
  },
  {
   "cell_type": "code",
   "execution_count": 15,
   "metadata": {},
   "outputs": [
    {
     "name": "stdout",
     "output_type": "stream",
     "text": [
      "3\n",
      "\u0003\n"
     ]
    }
   ],
   "source": [
    "char=input()\n",
    "c=char.isdigit()\n",
    "if c==True:\n",
    "    char=int(char)\n",
    "    print(chr(char))\n",
    "else:\n",
    "    print(ord(char))"
   ]
  },
  {
   "cell_type": "code",
   "execution_count": null,
   "metadata": {},
   "outputs": [],
   "source": []
  },
  {
   "cell_type": "markdown",
   "metadata": {},
   "source": [
    "char=input()\n",
    "c=char.isdecimal()\n",
    "print(c)\n",
    "if c==True:\n",
    "    c=int(c)\n",
    "    print(chr(char))\n",
    "else:\n",
    "    print(ord(char))"
   ]
  },
  {
   "cell_type": "code",
   "execution_count": 7,
   "metadata": {},
   "outputs": [
    {
     "name": "stdout",
     "output_type": "stream",
     "text": [
      "0\n",
      "\u0001\n"
     ]
    }
   ],
   "source": [
    "char=input()\n",
    "c=char.isdigit()\n",
    "if c==True:\n",
    "    char=int(c)\n",
    "    print(chr(char))\n",
    "else:\n",
    "    print(ord(char))"
   ]
  },
  {
   "cell_type": "code",
   "execution_count": 65,
   "metadata": {},
   "outputs": [
    {
     "name": "stdout",
     "output_type": "stream",
     "text": [
      "a\n",
      "A\n"
     ]
    }
   ],
   "source": [
    "string=input()\n",
    "string=string.upper()\n",
    "s={i for i in string}\n",
    "s=list(s)\n",
    "x={}\n",
    "for j in s:\n",
    "    cnt=0\n",
    "    for i in string:\n",
    "        if j==i:\n",
    "            cnt+=1\n",
    "    x.setdefault(j,cnt)\n",
    "max=0\n",
    "t=0\n",
    "for i in x.values():\n",
    "    if max==i:\n",
    "        t=1\n",
    "        print('?')\n",
    "    elif i>max:\n",
    "        max=i\n",
    "if t==0:\n",
    "    for k,v in x.items():\n",
    "        if v==max:\n",
    "            print(k.upper())"
   ]
  },
  {
   "cell_type": "code",
   "execution_count": 43,
   "metadata": {},
   "outputs": [
    {
     "data": {
      "text/plain": [
       "4"
      ]
     },
     "execution_count": 43,
     "metadata": {},
     "output_type": "execute_result"
    }
   ],
   "source": [
    "len(s)"
   ]
  },
  {
   "cell_type": "code",
   "execution_count": 36,
   "metadata": {},
   "outputs": [
    {
     "name": "stdout",
     "output_type": "stream",
     "text": [
      "The curious Case of benjamin button\n",
      "6\n"
     ]
    }
   ],
   "source": [
    "char=input()\n",
    "s=char.split()\n",
    "print(len(s))"
   ]
  },
  {
   "cell_type": "code",
   "execution_count": 35,
   "metadata": {},
   "outputs": [
    {
     "data": {
      "text/plain": [
       "['spdl', 'sfgk', 'fjgdk', 'sfkg']"
      ]
     },
     "execution_count": 35,
     "metadata": {},
     "output_type": "execute_result"
    }
   ],
   "source": [
    "s"
   ]
  },
  {
   "cell_type": "code",
   "execution_count": 73,
   "metadata": {},
   "outputs": [
    {
     "name": "stdout",
     "output_type": "stream",
     "text": [
      "UNUCIC\n",
      "36\n"
     ]
    }
   ],
   "source": [
    "num=input()\n",
    "a=['ABC','DEF','GHI','JKL','MNO','PQRS','TUV','WXYZ']\n",
    "cnt=0\n",
    "for i in num:\n",
    "    for j in range(len(a)):\n",
    "        if i in a[j]:\n",
    "            cnt+=(j+3)\n",
    "print(cnt)"
   ]
  },
  {
   "cell_type": "code",
   "execution_count": null,
   "metadata": {},
   "outputs": [],
   "source": []
  }
 ],
 "metadata": {
  "kernelspec": {
   "display_name": "Python 3",
   "language": "python",
   "name": "python3"
  }
 },
 "nbformat": 4,
 "nbformat_minor": 4
}
