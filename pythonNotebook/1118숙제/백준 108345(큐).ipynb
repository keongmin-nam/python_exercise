{
 "cells": [
  {
   "cell_type": "code",
   "execution_count": 1,
   "metadata": {},
   "outputs": [
    {
     "name": "stdout",
     "output_type": "stream",
     "text": [
      "명령의 수를 입력하세요.: 5\n",
      "명령을 입력하세요.: push 5\n",
      "명령을 입력하세요.: push 3\n",
      "명령을 입력하세요.: pop\n",
      "5\n",
      "명령을 입력하세요.: size\n",
      "1\n",
      "명령을 입력하세요.: empty\n",
      "0\n"
     ]
    }
   ],
   "source": [
    "# 리스트\n",
    "\n",
    "orderNum=int(input('명령의 수를 입력하세요.: '))\n",
    "QList=[]\n",
    "for i in range(orderNum):\n",
    "    order=[]\n",
    "    order=input('명령을 입력하세요.: ').split()\n",
    "    if order[0]=='push':\n",
    "        QList.append(order[1])\n",
    "    elif order[0]=='pop':\n",
    "        if not QList:\n",
    "            print('-1')\n",
    "        else:\n",
    "            print(QList.pop(0))\n",
    "    elif order[0]=='size':\n",
    "        print(len(QList))\n",
    "    elif order[0]=='empty':\n",
    "        if not QList:\n",
    "            print(1)\n",
    "        else:\n",
    "            print(0)\n",
    "    elif order[0]=='front':\n",
    "        if not QList:\n",
    "            print('-1')\n",
    "        else:\n",
    "            print(QList[0])\n",
    "    elif order[0]=='back':\n",
    "        if not QList:\n",
    "            print('-1')\n",
    "        else:\n",
    "            print(QList[len(QList)-1])"
   ]
  },
  {
   "cell_type": "code",
   "execution_count": 3,
   "metadata": {},
   "outputs": [
    {
     "name": "stdout",
     "output_type": "stream",
     "text": [
      "명령의 수를 입력하세요.: 3\n",
      "명령을 입력하세요.: push 3\n",
      "명령을 입력하세요.: size\n",
      "1\n",
      "명령을 입력하세요.: pop\n",
      "3\n"
     ]
    }
   ],
   "source": [
    "# 클래스\n",
    "\n",
    "class Queue:\n",
    "    def __init__(self):\n",
    "        self.qList=[]\n",
    "    def push(self,num):\n",
    "        self.qList.append(num)\n",
    "    def pop(self):\n",
    "        if not self.qList:\n",
    "            print('-1')\n",
    "        else:\n",
    "            print(self.qList.pop(0))\n",
    "    def size(self):\n",
    "        print(len(self.qList))\n",
    "    def empty(self):\n",
    "        if not self.qList:\n",
    "            print(1)\n",
    "        else:\n",
    "            print(0)\n",
    "    def front(self):\n",
    "        if not self.qList:\n",
    "            print('-1')\n",
    "        else:\n",
    "            print(self.qList[0])\n",
    "    def back(self):\n",
    "        if not self.qList:\n",
    "            print('-1')\n",
    "        else:\n",
    "            print(self.qList[len(self.qList)-1])\n",
    "            \n",
    "orderNum=int(input('명령의 수를 입력하세요.: '))\n",
    "queue=Queue()\n",
    "for i in range(orderNum):\n",
    "    order=[]\n",
    "    order=input('명령을 입력하세요.: ').split()\n",
    "    if order[0]=='push':\n",
    "        queue.push(order[1])\n",
    "    elif order[0]=='pop':\n",
    "        queue.pop()\n",
    "    elif order[0]=='size':\n",
    "        queue.size()\n",
    "    elif order[0]=='empty':\n",
    "        queue.empty()\n",
    "    elif order[0]=='front':\n",
    "        queue.front()\n",
    "    elif order[0]=='back':\n",
    "        queue.back()"
   ]
  },
  {
   "cell_type": "code",
   "execution_count": null,
   "metadata": {},
   "outputs": [],
   "source": []
  }
 ],
 "metadata": {
  "kernelspec": {
   "display_name": "Python 3",
   "language": "python",
   "name": "python3"
  },
  "language_info": {
   "codemirror_mode": {
    "name": "ipython",
    "version": 3
   },
   "file_extension": ".py",
   "mimetype": "text/x-python",
   "name": "python",
   "nbconvert_exporter": "python",
   "pygments_lexer": "ipython3",
   "version": "3.8.3"
  }
 },
 "nbformat": 4,
 "nbformat_minor": 4
}
