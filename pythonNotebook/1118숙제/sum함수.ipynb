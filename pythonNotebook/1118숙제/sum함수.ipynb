{
 "cells": [
  {
   "cell_type": "code",
   "execution_count": 53,
   "metadata": {},
   "outputs": [
    {
     "name": "stdout",
     "output_type": "stream",
     "text": [
      "55\n"
     ]
    }
   ],
   "source": [
    "#1\n",
    "def sum0(a,b):\n",
    "    sum0=0\n",
    "    for i in range(a,b+1):\n",
    "        sum0+=i\n",
    "    return sum0\n",
    "\n",
    "print(sum0(1,10))"
   ]
  },
  {
   "cell_type": "code",
   "execution_count": 54,
   "metadata": {},
   "outputs": [
    {
     "name": "stdout",
     "output_type": "stream",
     "text": [
      "55\n"
     ]
    }
   ],
   "source": [
    "#2\n",
    "class Sum1:\n",
    "    def __init__(self,a,b):\n",
    "        self.a=a\n",
    "        self.b=b\n",
    "        self.sum1=0\n",
    "        for i in range(a,b+1):\n",
    "            self.sum1+=i\n",
    "        print(self.sum1)\n",
    "\n",
    "sumA=Sum1(1,10)\n"
   ]
  },
  {
   "cell_type": "code",
   "execution_count": 56,
   "metadata": {},
   "outputs": [
    {
     "name": "stdout",
     "output_type": "stream",
     "text": [
      "입력할 숫자의 개수: 10\n",
      "55\n"
     ]
    }
   ],
   "source": [
    "#3\n",
    "class Sum2:\n",
    "    def __init__(self):\n",
    "        self.sumL=[]\n",
    "    def num(self,a):\n",
    "        self.sumL.append(a)\n",
    "    def sum2(self):\n",
    "        sum3=0\n",
    "        for i in self.sumL:\n",
    "            sum3+=i\n",
    "        print(sum3)\n",
    "        \n",
    "sumB=Sum2()\n",
    "cnt=int(input('입력할 숫자의 개수: '))\n",
    "for i in range(1,cnt+1):\n",
    "    sumB.num(i)\n",
    "sumB.sum2()"
   ]
  },
  {
   "cell_type": "code",
   "execution_count": 59,
   "metadata": {},
   "outputs": [
    {
     "name": "stdout",
     "output_type": "stream",
     "text": [
      "입력할 숫자의 개수: 10\n",
      "55\n"
     ]
    }
   ],
   "source": [
    "#4\n",
    "def sum3(num):\n",
    "    if num==0:\n",
    "        return 0\n",
    "    return num+sum3(num-1)\n",
    "\n",
    "n=int(input('입력할 숫자의 개수: '))\n",
    "print(sum3(n))"
   ]
  },
  {
   "cell_type": "code",
   "execution_count": null,
   "metadata": {},
   "outputs": [],
   "source": []
  }
 ],
 "metadata": {
  "kernelspec": {
   "display_name": "Python 3",
   "language": "python",
   "name": "python3"
  },
  "language_info": {
   "codemirror_mode": {
    "name": "ipython",
    "version": 3
   },
   "file_extension": ".py",
   "mimetype": "text/x-python",
   "name": "python",
   "nbconvert_exporter": "python",
   "pygments_lexer": "ipython3",
   "version": "3.8.3"
  }
 },
 "nbformat": 4,
 "nbformat_minor": 4
}
