{
 "cells": [
  {
   "cell_type": "markdown",
   "metadata": {},
   "source": [
    "# 시나리오 \n",
    "### 자동차 시뮬레이션 프로그램만들기\n",
    "현대자동차가 기아자동차를 인수했다. 따라서 기아차는 현대차와 같은 엔진을 사용한다.\n",
    "현대차는 아반떼, 기아차는 k3를 생산한다.\n",
    "\n",
    "자동차는 한개의 엔진과 4개의 타이어로 구성되어있으며, 차종에 따라 최고 속도는 다르다."
   ]
  },
  {
   "cell_type": "markdown",
   "metadata": {},
   "source": [
    "## is-a 관계\n",
    "국내자동차는 현대자동차와, 기아자동차가 있다. "
   ]
  },
  {
   "cell_type": "code",
   "execution_count": 10,
   "metadata": {},
   "outputs": [],
   "source": [
    "from IPython.display import clear_output\n",
    "import time # \n",
    "\n",
    "class Car:\n",
    "    def __init__(self, maxSpeed):\n",
    "        self.egine = \"현대엔진\"\n",
    "        self.maxSpeed = maxSpeed\n",
    "    def displayCar(self):\n",
    "        for i in range(0,3):\n",
    "            print('\\n')\n",
    "        print('''\n",
    "                 ㅁㅁㅁ           \n",
    "             ㅁㅁㅁㅁㅁㅁㅁ\n",
    "                ㅇ    ㅇ\n",
    "        ''')\n",
    "        print('============================================')\n",
    "     \n",
    "    def runCar(self):\n",
    "        for i in range(0,15):\n",
    "            clear_output(wait=True)\n",
    "            for j in range(0,3):\n",
    "                print('\\n')\n",
    "            n = i\n",
    "            for k in range(0,n):\n",
    "                print(' ', end='')\n",
    "            print('''       ㅁㅁㅁ ''')\n",
    "            for k in range(0,n):\n",
    "                print(' ', end='')\n",
    "            print('''   ㅁㅁㅁㅁㅁㅁㅁㅁ ''')\n",
    "            for k in range(0,n):\n",
    "                print(' ', end='')\n",
    "            print('''     ㅇ    ㅇ ''')\n",
    "            print('============================================') # 도로\n",
    "            time.sleep(1) # 1초마다 새로 그리기\n",
    "\n",
    "    \n",
    "class hyundai(Car): \n",
    "    def __init__(self, modelName, maxSpeed,color):\n",
    "        self.modelName = modelName\n",
    "        self.maxSpeed = maxSpeed\n",
    "        self.color = color\n",
    "\n",
    "class Kia(Car): \n",
    "    def __init__(self, modelName, maxSpeed):\n",
    "        self.modelName = modelName\n",
    "        self.maxSpeed = maxSpeed\n",
    "    def displayCar(self):\n",
    "        print('\\n')\n",
    "        print('''\n",
    "                ■■■■           \n",
    "            ■■■■■■■■\n",
    "                ㅇ    ㅇ\n",
    "        ''')\n",
    "        print('============================================')\n"
   ]
  },
  {
   "cell_type": "code",
   "execution_count": 11,
   "metadata": {
    "scrolled": false
   },
   "outputs": [
    {
     "name": "stdout",
     "output_type": "stream",
     "text": [
      "\n",
      "\n",
      "\n",
      "\n",
      "\n",
      "\n",
      "\n",
      "                 ㅁㅁㅁ           \n",
      "             ㅁㅁㅁㅁㅁㅁㅁ\n",
      "                ㅇ    ㅇ\n",
      "        \n",
      "============================================\n"
     ]
    }
   ],
   "source": [
    "avante = hyundai(\"아반떼\", 150, 'white')\n",
    "avante.displayCar()\n"
   ]
  },
  {
   "cell_type": "code",
   "execution_count": 5,
   "metadata": {},
   "outputs": [
    {
     "data": {
      "text/plain": [
       "'white'"
      ]
     },
     "execution_count": 5,
     "metadata": {},
     "output_type": "execute_result"
    }
   ],
   "source": [
    "avante.color"
   ]
  },
  {
   "cell_type": "code",
   "execution_count": 6,
   "metadata": {},
   "outputs": [
    {
     "name": "stdout",
     "output_type": "stream",
     "text": [
      "\n",
      "\n",
      "\n",
      "                ■■■■           \n",
      "            ■■■■■■■■\n",
      "                ㅇ    ㅇ\n",
      "        \n",
      "============================================\n"
     ]
    }
   ],
   "source": [
    "k3 = Kia(\"케이쓰리\", 130)\n",
    "k3.displayCar()"
   ]
  },
  {
   "cell_type": "code",
   "execution_count": 7,
   "metadata": {
    "scrolled": true
   },
   "outputs": [
    {
     "name": "stdout",
     "output_type": "stream",
     "text": [
      "\n",
      "\n",
      "\n",
      "\n",
      "\n",
      "\n",
      "                     ㅁㅁㅁ \n",
      "                 ㅁㅁㅁㅁㅁㅁㅁㅁ \n",
      "                   ㅇ    ㅇ \n",
      "============================================\n"
     ]
    }
   ],
   "source": [
    "avante.runCar()"
   ]
  },
  {
   "cell_type": "markdown",
   "metadata": {},
   "source": [
    "## Has-a 관계\n",
    "자동차에는 4개의 타이어가 있다.\n"
   ]
  },
  {
   "cell_type": "code",
   "execution_count": 15,
   "metadata": {},
   "outputs": [],
   "source": [
    "class Tire:\n",
    "    def __init__(self, brandName, size=1):\n",
    "        self.brandName = brandName\n",
    "        self.size = size\n",
    "class myCar():\n",
    "    def __init__(self, Tire_kind='금호타이어'):\n",
    "        self.TireFL = Tire(\"금호타이어\", 2)\n",
    "        self.TireFR = Tire(\"금호타이어\", 2)\n",
    "        self.TireRL = Tire(\"금호타이어\", 2)\n",
    "        self.TireRR = Tire(\"금호타이어\", 2)\n",
    "        \n",
    "    def printSpec(self):\n",
    "        print('브랜드 이름 : {}'.format(self.TireFL.brandName))\n",
    "   "
   ]
  },
  {
   "cell_type": "code",
   "execution_count": 18,
   "metadata": {},
   "outputs": [
    {
     "name": "stdout",
     "output_type": "stream",
     "text": [
      "브랜드 이름 : 금호타이어\n"
     ]
    }
   ],
   "source": [
    "minjiCar = myCar()\n",
    "minjiCar.printSpec()\n"
   ]
  },
  {
   "cell_type": "code",
   "execution_count": null,
   "metadata": {},
   "outputs": [],
   "source": [
    "minjiCar.TireFL.size"
   ]
  },
  {
   "cell_type": "markdown",
   "metadata": {},
   "source": [
    "# 시나리오 예시\n",
    "### 게임 카트라이더의 심플 버전을 만들어보자.\n",
    "\n",
    "현재 한국에 제공되는 자동차는 총 3가지가 있고, 각각의 이름은 아반떼, 제네시스, K3 다.\n",
    "이 카트의 제조사는 현대자동차, 기아자동차로 현대차는 아반떼, 제니시스를 기아차는 k3를 생산한다.\n",
    "\n",
    "일반적으로 각각의 카트는 한개의 엔진과 4개의 타이어로 구성되어있으며, 차종에 따라 최고 속도는 다르다.\n",
    "카트의 모델마다 다른 제조사의 타이어가 장착되며 기본타이어가 아닌 금호타이어를 장착할 경우 최고 속도가 5km/h가 높아지고\n",
    "한국타이어를 장착할 경우 10km/h 가 높아진다.\n",
    "\n",
    "참고로 모든 카트는 달리는 기능 외에 하나씩 추가적인 공격 아이템을 쓸 수 있다고 한다.\n",
    "예를 들어 아반떼는 specialFunction으로 바나나 놓기가 된다."
   ]
  },
  {
   "cell_type": "code",
   "execution_count": null,
   "metadata": {},
   "outputs": [],
   "source": []
  },
  {
   "cell_type": "code",
   "execution_count": null,
   "metadata": {},
   "outputs": [],
   "source": []
  }
 ],
 "metadata": {
  "kernelspec": {
   "display_name": "Python 3",
   "language": "python",
   "name": "python3"
  },
  "language_info": {
   "codemirror_mode": {
    "name": "ipython",
    "version": 3
   },
   "file_extension": ".py",
   "mimetype": "text/x-python",
   "name": "python",
   "nbconvert_exporter": "python",
   "pygments_lexer": "ipython3",
   "version": "3.8.3"
  }
 },
 "nbformat": 4,
 "nbformat_minor": 4
}
