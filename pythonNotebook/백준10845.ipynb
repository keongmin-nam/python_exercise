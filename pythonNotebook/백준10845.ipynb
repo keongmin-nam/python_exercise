{
 "cells": [
  {
   "cell_type": "code",
   "execution_count": 11,
   "metadata": {},
   "outputs": [
    {
     "name": "stdout",
     "output_type": "stream",
     "text": [
      "3\n",
      "pop\n",
      "-1\n",
      "size\n",
      "0\n",
      "empty\n",
      "1\n"
     ]
    }
   ],
   "source": [
    "num=int(input())\n",
    "q=[]\n",
    "for i in range(num):\n",
    "    order=input()\n",
    "    if order=='pop':\n",
    "        if not q:\n",
    "            print('-1')\n",
    "        else:\n",
    "            print(q[0])\n",
    "            del q[0]\n",
    "    elif order=='size':\n",
    "        print(len(q))\n",
    "    elif order=='empty':\n",
    "        if not q:\n",
    "            print('1')\n",
    "        else:\n",
    "            print('0')\n",
    "    elif order=='front':\n",
    "        if not q:\n",
    "            print('-1')\n",
    "        else:\n",
    "            print(q[0])\n",
    "    elif order=='back':\n",
    "        if not q:\n",
    "            print('-1')\n",
    "        else:\n",
    "            print(q[-1])"
   ]
  },
  {
   "cell_type": "code",
   "execution_count": null,
   "metadata": {},
   "outputs": [],
   "source": []
  },
  {
   "cell_type": "code",
   "execution_count": null,
   "metadata": {},
   "outputs": [],
   "source": []
  }
 ],
 "metadata": {
  "kernelspec": {
   "display_name": "Python 3",
   "language": "python",
   "name": "python3"
  },
  "language_info": {
   "codemirror_mode": {
    "name": "ipython",
    "version": 3
   },
   "file_extension": ".py",
   "mimetype": "text/x-python",
   "name": "python",
   "nbconvert_exporter": "python",
   "pygments_lexer": "ipython3",
   "version": "3.8.3"
  }
 },
 "nbformat": 4,
 "nbformat_minor": 4
}
