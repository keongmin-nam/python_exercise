{
 "cells": [
  {
   "cell_type": "markdown",
   "metadata": {},
   "source": [
    "# 시나리오 - 집꾸미기\n",
    "\n",
    "방배동에는 3채의 집(Raemian, Xi, Lotte)이 있다. 3채의 집은 모두 기본적으로 같은 모양(사각형)이고 색과 크기는 선택할 수 있다. 이때 크기는 집에 있는 방의 개수로 계산한다.\n",
    "초기 임대 가격은 1000만원이고 집에 새로운 옵션을 추가할 때마다 옵션당 가격을 지불해야한다. 옵션은 내부와 외부로 나뉜다.\n",
    "\n",
    "#### 집 외부\n",
    "- 정원 추가 : 500만원\n",
    "- 주차장 추가 : 300만원\n",
    "- 울타리 추가 : 100만원\n",
    "\n",
    "#### 집 내부\n",
    "- 냉장고 : 50만원\n",
    "- 세탁기 : 30만원\n",
    "- 건조기 : 30만원\n",
    "- 옷장 : 5만원\n",
    "- 서랍 : 2만원"
   ]
  },
  {
   "cell_type": "code",
   "execution_count": 67,
   "metadata": {},
   "outputs": [],
   "source": [
    "class House:\n",
    "    def __init__(self, size, color):\n",
    "        self.shape=\"rectangular\"\n",
    "        self.size=size\n",
    "        self.color=color\n",
    "        self.price=1000 # 단위[만원]\n",
    "        print('이 집의 크기는 ',size,'이고 집 색깔은 ',color,'입니다.')\n",
    "    def Hello(self):\n",
    "        print('어서오세요. 방배동 주택단지입니다.')\n",
    "    def displayHouse(self):\n",
    "        print('''\n",
    "            =============\n",
    "           |             |\n",
    "           |             |\n",
    "           |             |\n",
    "           |             |\n",
    "     ______|_____________|_______\n",
    "        ''')\n",
    "        \n",
    "class PriceListForm:\n",
    "    def __init__(self,item,price):\n",
    "        self.item=item\n",
    "        self.price=price\n",
    "        print(item,':',price,'만원')\n",
    "\n",
    "class PriceList:\n",
    "    def __init__(self):\n",
    "        print('<옵션 추가 가격표>')\n",
    "        print('------집 외부-------')\n",
    "        self.garden=PriceListForm('정원',500)\n",
    "        self.Plot=PriceListForm('주차장',300)\n",
    "        self.fence=PriceListForm('울타리',100)\n",
    "        print('------------------')\n",
    "        print('------집 내부-------')\n",
    "        self.refrigerator=PriceListForm('냉장고',50)\n",
    "        self.washing=PriceListForm('세탁기',30)\n",
    "        self.drier=PriceListForm('건조기',30)\n",
    "        self.closet=PriceListForm('옷장',5)\n",
    "        self.drawer=PriceListForm('서랍',2)\n",
    "        print('------------------')\n",
    "        \n",
    "class Raemian(House):\n",
    "    def __init__(self,name,size,color):\n",
    "        self.name=name\n",
    "        self.size=size\n",
    "        self.color=color\n",
    "        print('이 집의 이름은 ',name,'이고 크기는 ',size,'이고 집 색깔은 ',color,'입니다.')\n",
    "    def displayHouse(self):\n",
    "        print('''\n",
    "            =============\n",
    "           |             |\n",
    "           |  ▣▣        |\n",
    "           |       ▣▣   |\n",
    "           |             |\n",
    "     ______|_____________|______\n",
    "        ''') \n",
    "\n",
    "class Xi(House):\n",
    "    def greeting(self):\n",
    "        print('이 집의 이름은 Xi입니다.')\n",
    "\n",
    "class Lotte(House):\n",
    "    def __init__(self,size,color):\n",
    "        self.name=\"Lotte\"\n",
    "        self.size=size\n",
    "        self.color=color\n",
    "        print('이 집의 이름은 Lotte이고 크기는 ',size,'이고 집 색깔은 ',color,'입니다.')"
   ]
  },
  {
   "cell_type": "code",
   "execution_count": 75,
   "metadata": {},
   "outputs": [
    {
     "name": "stdout",
     "output_type": "stream",
     "text": [
      "이 집의 이름은  Reamian 이고 크기는  2 이고 집 색깔은  yello 입니다.\n",
      "\n",
      "            =============\n",
      "           |             |\n",
      "           |  ▣▣        |\n",
      "           |       ▣▣   |\n",
      "           |             |\n",
      "     ______|_____________|______\n",
      "        \n"
     ]
    }
   ],
   "source": [
    "A=Raemian(\"Reamian\",2,\"yello\")\n",
    "A.displayHouse()"
   ]
  },
  {
   "cell_type": "code",
   "execution_count": 69,
   "metadata": {},
   "outputs": [
    {
     "name": "stdout",
     "output_type": "stream",
     "text": [
      "이 집의 크기는  3 이고 집 색깔은  black 입니다.\n",
      "이 집의 이름은 Xi입니다.\n",
      "\n",
      "            =============\n",
      "           |             |\n",
      "           |             |\n",
      "           |             |\n",
      "           |             |\n",
      "     ______|_____________|_______\n",
      "        \n"
     ]
    }
   ],
   "source": [
    "B=Xi(3,'black')\n",
    "B.greeting()\n",
    "B.displayHouse()"
   ]
  },
  {
   "cell_type": "code",
   "execution_count": 76,
   "metadata": {},
   "outputs": [
    {
     "name": "stdout",
     "output_type": "stream",
     "text": [
      "이 집의 이름은 Lotte이고 크기는  4 이고 집 색깔은  blue 입니다.\n",
      "어서오세요. 방배동 주택단지입니다.\n"
     ]
    }
   ],
   "source": [
    "C=Lotte(4,'blue')\n",
    "C.Hello()"
   ]
  },
  {
   "cell_type": "code",
   "execution_count": 77,
   "metadata": {},
   "outputs": [
    {
     "name": "stdout",
     "output_type": "stream",
     "text": [
      "<옵션 추가 가격표>\n",
      "------집 외부-------\n",
      "정원 : 500 만원\n",
      "주차장 : 300 만원\n",
      "울타리 : 100 만원\n",
      "------------------\n",
      "------집 내부-------\n",
      "냉장고 : 50 만원\n",
      "세탁기 : 30 만원\n",
      "건조기 : 30 만원\n",
      "옷장 : 5 만원\n",
      "서랍 : 2 만원\n",
      "------------------\n"
     ]
    }
   ],
   "source": [
    "lsit=PriceList()"
   ]
  },
  {
   "cell_type": "code",
   "execution_count": null,
   "metadata": {},
   "outputs": [],
   "source": []
  },
  {
   "cell_type": "code",
   "execution_count": null,
   "metadata": {},
   "outputs": [],
   "source": []
  }
 ],
 "metadata": {
  "kernelspec": {
   "display_name": "Python 3",
   "language": "python",
   "name": "python3"
  },
  "language_info": {
   "codemirror_mode": {
    "name": "ipython",
    "version": 3
   },
   "file_extension": ".py",
   "mimetype": "text/x-python",
   "name": "python",
   "nbconvert_exporter": "python",
   "pygments_lexer": "ipython3",
   "version": "3.8.3"
  }
 },
 "nbformat": 4,
 "nbformat_minor": 4
}
